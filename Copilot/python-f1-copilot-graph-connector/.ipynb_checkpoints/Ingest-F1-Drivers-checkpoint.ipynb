{
 "cells": [
  {
   "cell_type": "markdown",
   "id": "0e94106f-962e-4620-a790-81b916177e92",
   "metadata": {},
   "source": [
    "# Microsoft Copilot - Graph Connector for Formula 1 World Championship (1950 - 2023)"
   ]
  },
  {
   "cell_type": "markdown",
   "id": "0f2ecff7-fa91-459a-8074-6047978d20b6",
   "metadata": {},
   "source": [
    "## Initialization code"
   ]
  },
  {
   "cell_type": "markdown",
   "id": "8353ff8b-cc53-4c50-93d1-cd362b4cb17f",
   "metadata": {},
   "source": [
    "In the following section we load all the needed libraries and types.\n",
    "In order to run this sample you need to import the following Python packages:\n",
    "\n",
    "- pip install python-dotenv\n",
    "- pip install azure-identity\n",
    "- pip install msgraph-sdk\n",
    "- pip install requests\n"
   ]
  },
  {
   "cell_type": "code",
   "execution_count": 43,
   "id": "17671840-6afa-4f2d-a6be-55ad752fb87f",
   "metadata": {},
   "outputs": [],
   "source": [
    "import pandas as pd\n",
    "import requests\n",
    "from datetime import datetime\n",
    "import unicodedata\n",
    "from typing import Generator\n",
    "from urllib.parse import urljoin\n",
    "import json\n",
    "from dotenv import load_dotenv\n",
    "import os\n",
    "from azure.identity.aio import ClientSecretCredential\n",
    "from msgraph import GraphServiceClient\n",
    "from kiota_abstractions.api_error import APIError\n",
    "from msgraph.generated.models.external_connectors.activity_settings import ActivitySettings\n",
    "from msgraph.generated.models.external_connectors.display_template import DisplayTemplate\n",
    "from msgraph.generated.models.external_connectors.external_connection import ExternalConnection\n",
    "from msgraph.generated.models.external_connectors.item_id_resolver import ItemIdResolver\n",
    "from msgraph.generated.models.external_connectors.search_settings import SearchSettings\n",
    "from msgraph.generated.models.external_connectors.url_match_info import UrlMatchInfo\n",
    "from msgraph.generated.models.external_connectors.schema import Schema\n",
    "from msgraph.generated.models.external_connectors.property_ import Property_\n",
    "from msgraph.generated.models.external_connectors.property_type import PropertyType\n",
    "from msgraph.generated.models.external_connectors.label import Label\n",
    "from msgraph.generated.models.json import Json\n",
    "\n",
    "from msgraph.generated.models.external_connectors.access_type import AccessType\n",
    "from msgraph.generated.models.external_connectors.acl import Acl\n",
    "from msgraph.generated.models.external_connectors.acl_type import AclType\n",
    "from msgraph.generated.models.external_connectors.external_activity import (\n",
    "    ExternalActivity,\n",
    ")\n",
    "from msgraph.generated.models.external_connectors.external_activity_type import (\n",
    "    ExternalActivityType,\n",
    ")\n",
    "from msgraph.generated.models.external_connectors.external_item import ExternalItem\n",
    "from msgraph.generated.models.external_connectors.external_item_content import (\n",
    "    ExternalItemContent,\n",
    ")\n",
    "from msgraph.generated.models.external_connectors.external_item_content_type import (\n",
    "    ExternalItemContentType,\n",
    ")\n",
    "from msgraph.generated.models.external_connectors.identity import Identity\n",
    "from msgraph.generated.models.external_connectors.identity_type import IdentityType\n",
    "from msgraph.generated.models.external_connectors.properties import Properties"
   ]
  },
  {
   "cell_type": "code",
   "execution_count": 44,
   "id": "7196903d-0ddc-4eac-a42a-a84f1a5662f8",
   "metadata": {},
   "outputs": [
    {
     "data": {
      "text/plain": [
       "True"
      ]
     },
     "execution_count": 44,
     "metadata": {},
     "output_type": "execute_result"
    }
   ],
   "source": [
    "load_dotenv()"
   ]
  },
  {
   "cell_type": "markdown",
   "id": "9e1b98b0-c6e9-4db5-888b-c87f1a7ef0dd",
   "metadata": {},
   "source": [
    "## Drivers data load and preparation"
   ]
  },
  {
   "cell_type": "markdown",
   "id": "4f313dfc-4ed2-46df-84c1-7dc4a85753e6",
   "metadata": {},
   "source": [
    "Here we load the CSV file with data about all the F1 drivers from 1950 to 2023 using Pandas and we show few information about the data"
   ]
  },
  {
   "cell_type": "code",
   "execution_count": 45,
   "id": "f6e5e10d-00d9-4ff6-9c66-819099554ef7",
   "metadata": {},
   "outputs": [
    {
     "name": "stdout",
     "output_type": "stream",
     "text": [
      "   driverId   driverRef number code  forename     surname        dob  \\\n",
      "0         1    hamilton     44  HAM     Lewis    Hamilton 1985-01-07   \n",
      "1         2    heidfeld     \\N  HEI      Nick    Heidfeld 1977-05-10   \n",
      "2         3     rosberg      6  ROS      Nico     Rosberg 1985-06-27   \n",
      "3         4      alonso     14  ALO  Fernando      Alonso 1981-07-29   \n",
      "4         5  kovalainen     \\N  KOV    Heikki  Kovalainen 1981-10-19   \n",
      "\n",
      "  nationality                                             url  \n",
      "0     British     http://en.wikipedia.org/wiki/Lewis_Hamilton  \n",
      "1      German      http://en.wikipedia.org/wiki/Nick_Heidfeld  \n",
      "2      German       http://en.wikipedia.org/wiki/Nico_Rosberg  \n",
      "3     Spanish    http://en.wikipedia.org/wiki/Fernando_Alonso  \n",
      "4     Finnish  http://en.wikipedia.org/wiki/Heikki_Kovalainen  \n"
     ]
    }
   ],
   "source": [
    "# Set the CSV file name\n",
    "file_path = \"data/drivers.csv\"\n",
    " \n",
    "# Load the CSV file into a DataFrame\n",
    "df = pd.read_csv(file_path)\n",
    "\n",
    "# Convert the dob field into a date field\n",
    "df['dob'] = pd.to_datetime(df['dob'])\n",
    "\n",
    "# Display the first few rows of the DataFrame\n",
    "print(df.head())"
   ]
  },
  {
   "cell_type": "markdown",
   "id": "d22c5169-d368-4948-b150-3c2150bf86d3",
   "metadata": {},
   "source": [
    "Define helper functions to process data"
   ]
  },
  {
   "cell_type": "code",
   "execution_count": 46,
   "id": "a9cc88fc-eb16-460f-a783-fddb8c6ea543",
   "metadata": {},
   "outputs": [],
   "source": [
    "def convert_to_iso8601(date_str):\n",
    "    # Parse the date string to datetime object\n",
    "    dt = datetime.strptime(date_str, '%Y-%m-%d')\n",
    "\n",
    "    # Convert to ISO 8601 format\n",
    "    iso8601_format = dt.isoformat() + \"Z\"  # Appending 'Z' to indicate UTC\n",
    "    return iso8601_format"
   ]
  },
  {
   "cell_type": "code",
   "execution_count": 47,
   "id": "7c81c4eb-d130-41d3-afde-1273897ecf88",
   "metadata": {},
   "outputs": [],
   "source": [
    "def read_driver_html(url):\n",
    "    response = requests.get(url)\n",
    "    if response.status_code == 200:\n",
    "        web_page_content = response.text\n",
    "        return web_page_content\n",
    "    else:\n",
    "        print(f\"Failed to fetch the web page: {url}\")"
   ]
  },
  {
   "cell_type": "code",
   "execution_count": 48,
   "id": "575b7d87-fe76-42c6-8bbe-8d10cab6e918",
   "metadata": {},
   "outputs": [],
   "source": [
    "def replace_special_characters(text):\n",
    "    # Define a mapping of special characters to their replacements\n",
    "    replacements = {\n",
    "        'à': 'a',\n",
    "        'ä': 'a',\n",
    "        'á': 'a',\n",
    "        'Ã': 'A',\n",
    "        'Á': 'A',\n",
    "        'è': 'e',\n",
    "        'é': 'e',\n",
    "        'É': 'E',\n",
    "        'ì': 'i',\n",
    "        'í': 'i',\n",
    "        'ò': 'o',\n",
    "        'ö': 'o',\n",
    "        'ô': 'o',\n",
    "        'ó': 'o',\n",
    "        'ø': 'o',\n",
    "        'ù': 'u',\n",
    "        'ú': 'u',\n",
    "        'ü': 'u',\n",
    "        'ç': 'c',\n",
    "        'š': 's',\n",
    "        'ñ': 'n',\n",
    "        '.': '',\n",
    "        ' ': '',\n",
    "        '\\'': ''\n",
    "    }\n",
    "\n",
    "    # Iterate over the mapping and replace each special character with its replacement\n",
    "    for special_char, replacement in replacements.items():\n",
    "        text = text.replace(special_char, replacement)\n",
    "    \n",
    "    return text"
   ]
  },
  {
   "cell_type": "markdown",
   "id": "052bf3a0-4d86-4824-a1d2-76cb1be5301c",
   "metadata": {},
   "source": [
    "## Connect to Microsoft Graph"
   ]
  },
  {
   "cell_type": "code",
   "execution_count": 49,
   "id": "a49cf027-27cd-4deb-b565-5aa1dc8391bd",
   "metadata": {},
   "outputs": [],
   "source": [
    "credential = ClientSecretCredential(\n",
    "    os.getenv(\"TENANT_ID\"),\n",
    "    os.getenv(\"CLIENT_ID\"),\n",
    "    os.getenv(\"CLIENT_SECRET\")\n",
    ")\n",
    "scopes = ['https://graph.microsoft.com/.default']\n",
    "client = GraphServiceClient(credentials=credential, scopes=scopes)"
   ]
  },
  {
   "cell_type": "code",
   "execution_count": 50,
   "id": "3b5d5c62-3b61-4a4f-bd00-8e712b822bf5",
   "metadata": {},
   "outputs": [],
   "source": [
    "# Get the User ID needed as PerformedBy Identity\n",
    "user_id = os.getenv(\"USER_ID\")"
   ]
  },
  {
   "cell_type": "markdown",
   "id": "1f2662d9-029e-4b39-97a3-9042bc419dd7",
   "metadata": {},
   "source": [
    "## Define the Connector Schema"
   ]
  },
  {
   "cell_type": "markdown",
   "id": "9f69a01b-14ac-4be7-809b-43f85b283fc6",
   "metadata": {},
   "source": [
    "Define the connection"
   ]
  },
  {
   "cell_type": "code",
   "execution_count": 51,
   "id": "df1e98df-2194-4bbf-8b5a-30f8587e5b0a",
   "metadata": {},
   "outputs": [],
   "source": [
    "external_connection = ExternalConnection(\n",
    "    id=\"paolopiaf1data\",\n",
    "    name=\"Formula 1 World Championship Drivers (born after 1975)\",\n",
    "    description=\"Statistical data about Formula 1 World Championship Drivers (born after 1975)\",\n",
    "    activity_settings=ActivitySettings(\n",
    "        url_to_item_resolvers=[\n",
    "            ItemIdResolver(\n",
    "                odata_type=\"#microsoft.graph.externalConnectors.itemIdResolver\",\n",
    "                priority=1,\n",
    "                item_id=\"{driverid}\",\n",
    "                url_match_info=UrlMatchInfo(\n",
    "                    base_urls=[\n",
    "                        \"http://en.wikipedia.org/wiki\"\n",
    "                    ],\n",
    "                    url_pattern=\"/(?<driverid>[a-z_A-Z]+)\"\n",
    "                )\n",
    "            )\n",
    "        ]\n",
    "    ),\n",
    "    search_settings=SearchSettings(\n",
    "      search_result_templates=[\n",
    "        DisplayTemplate(\n",
    "            id=\"paolopiaf1data\",\n",
    "            priority=1\n",
    "        )\n",
    "      ]\n",
    "    )\n",
    ")"
   ]
  },
  {
   "cell_type": "markdown",
   "id": "11c434fb-f7e8-4eb4-83de-260d620aabb5",
   "metadata": {},
   "source": [
    "Define the schema"
   ]
  },
  {
   "cell_type": "code",
   "execution_count": 52,
   "id": "a6c64525-e1c2-41aa-88c3-a2560263a6b6",
   "metadata": {},
   "outputs": [],
   "source": [
    "schema = Schema(\n",
    "  base_type=\"microsoft.graph.externalItem\",\n",
    "  properties=[\n",
    "    Property_(\n",
    "        name=\"title\",\n",
    "        type=PropertyType.String,\n",
    "        is_queryable=True,\n",
    "        is_searchable=True,\n",
    "        is_retrievable=True,\n",
    "        labels=[\n",
    "            Label.Title\n",
    "        ]\n",
    "    ),\n",
    "    Property_(\n",
    "        name=\"code\",\n",
    "        type=PropertyType.String,\n",
    "        is_queryable=True,\n",
    "        is_searchable=True,\n",
    "        is_retrievable=True\n",
    "    ),\n",
    "    Property_(\n",
    "        name=\"number\",\n",
    "        type=PropertyType.Int64,\n",
    "        is_queryable=True,\n",
    "        is_retrievable=True\n",
    "    ),\n",
    "    Property_(\n",
    "        name=\"nationality\",\n",
    "        type=PropertyType.String,\n",
    "        is_queryable=True,\n",
    "        is_searchable=True,\n",
    "        is_retrievable=True\n",
    "    ),\n",
    "    Property_(\n",
    "        name=\"url\",\n",
    "        type=PropertyType.String,\n",
    "        is_retrievable=True,\n",
    "        labels=[\n",
    "            Label.Url\n",
    "        ]\n",
    "    ),\n",
    "    Property_(\n",
    "        name=\"birthdate\",\n",
    "        type=PropertyType.DateTime,\n",
    "        is_queryable=True,\n",
    "        is_retrievable=True,\n",
    "        is_refinable=True\n",
    "    ),\n",
    "    Property_(\n",
    "        name=\"reference\",\n",
    "        type=PropertyType.String,\n",
    "        is_queryable=True,\n",
    "        is_retrievable=True,\n",
    "        is_refinable=True\n",
    "    ),\n",
    "    Property_(\n",
    "        name=\"driverid\",\n",
    "        type=PropertyType.Int64,\n",
    "        is_retrievable=True\n",
    "    )\n",
    "  ]\n",
    ")"
   ]
  },
  {
   "cell_type": "markdown",
   "id": "3db31288-1753-4b53-a291-b9bdff5c7f58",
   "metadata": {},
   "source": [
    "Create the connection and the schema with Microsoft Graph"
   ]
  },
  {
   "cell_type": "code",
   "execution_count": 53,
   "id": "054de87d-43c6-432e-b867-e2aa260b9b58",
   "metadata": {},
   "outputs": [],
   "source": [
    "async def _create_connection():\n",
    "    print(\"Creating connection...\")\n",
    "    with open(\"driverLayout.json\", \"r\", encoding='utf-8') as file:\n",
    "        adaptive_card = file.read()\n",
    "        layout = json.loads(adaptive_card)\n",
    "\n",
    "        assert external_connection.search_settings is not None\n",
    "        assert external_connection.search_settings.search_result_templates is not None\n",
    "\n",
    "        external_connection.search_settings.search_result_templates[0].layout = Json(\n",
    "            additional_data=layout\n",
    "        )\n",
    "\n",
    "    try:\n",
    "        # Try to see if the connection already exists and if that is the case, update it\n",
    "        await client.external.connections.by_external_connection_id(external_connection.id).patch(external_connection)\n",
    "    except Exception as e:\n",
    "        # If it does not exist, let's create it\n",
    "        await client.external.connections.post(external_connection)\n",
    "\n",
    "    print(\"CONNECTION CREATED/UPDATE\")"
   ]
  },
  {
   "cell_type": "code",
   "execution_count": 26,
   "id": "343cbd2b-5d30-4ae1-9e29-9692898b4aa2",
   "metadata": {},
   "outputs": [],
   "source": [
    "async def _create_schema():\n",
    "    print(\"Creating schema...\")\n",
    "\n",
    "    assert external_connection.id is not None\n",
    "    await client.external.connections.by_external_connection_id(external_connection.id).schema.patch(schema)\n",
    "    print(\"DONE\")"
   ]
  },
  {
   "cell_type": "code",
   "execution_count": 28,
   "id": "ab3b30bf-b213-4f6d-8545-a016c64156b5",
   "metadata": {},
   "outputs": [],
   "source": [
    "async def create_connection():\n",
    "    await _create_connection()\n",
    "    await _create_schema()"
   ]
  },
  {
   "cell_type": "code",
   "execution_count": 29,
   "id": "25edc6ce-4743-4fc8-b1da-eb894bc94ea4",
   "metadata": {},
   "outputs": [
    {
     "name": "stdout",
     "output_type": "stream",
     "text": [
      "Creating connection...\n",
      "CONNECTION CREATION DONE\n",
      "Creating schema...\n",
      "DONE\n"
     ]
    }
   ],
   "source": [
    "await create_connection()"
   ]
  },
  {
   "cell_type": "markdown",
   "id": "fcc49795-4280-40d4-b9d1-0e2ea972d456",
   "metadata": {},
   "source": [
    "## Ingest the actual data (transform and load phase)"
   ]
  },
  {
   "cell_type": "code",
   "execution_count": 82,
   "id": "14fda151-d26f-46ee-9c0b-717f27e874fe",
   "metadata": {},
   "outputs": [],
   "source": [
    "def _transform(content) -> Generator[ExternalItem, None, None]:\n",
    "    currentDate = datetime.now().isoformat(timespec='seconds') + \"Z\"\n",
    "\n",
    "    for index, driver in content.iterrows():\n",
    "        print(driver[\"surname\"])\n",
    "        driverId = replace_special_characters(f\"{driver[\"forename\"]}_{driver[\"surname\"]}\")\n",
    "        driverTitle = f\"{driver[\"forename\"]} {driver[\"surname\"]}\"\n",
    "        driverNumber = driver[\"number\"]\n",
    "        driverBirthDate = (driver[\"dob\"]).isoformat(timespec='seconds') + \"Z\"\n",
    "        driverBirthDateShort = driver[\"dob\"].strftime(\"%Y-%m-%d\")\n",
    "        driverContent = f\"<div><h2>{driverTitle}</h2><p><b>{driverTitle}</b> is a {driver[\"nationality\"]} F1 driver who was born on {driverBirthDateShort}.</p><p>Official number is {driverNumber} and official code is {driver[\"code\"]}.</p><p>Additional details can be found at the following URL: <a href='{driver[\"url\"]}'>{driver[\"url\"]}</a></p></div>\"\n",
    "        # driverContent = read_driver_html(driver[\"url\"])\n",
    "        yield ExternalItem(\n",
    "            id=driverId,\n",
    "            properties=Properties(\n",
    "                additional_data={\n",
    "                    \"title\": driverTitle,\n",
    "                    \"code\": driver[\"code\"] if driverNumber != \"\\\\N\" else \"\",\n",
    "                    \"number\": int(driverNumber) if driverNumber != \"\\\\N\" else 0,\n",
    "                    \"nationality\": driver[\"nationality\"],\n",
    "                    \"url\": driver[\"url\"],\n",
    "                    \"birthdate\": driverBirthDate,\n",
    "                    \"reference\": driver[\"driverRef\"],\n",
    "                    \"driverid\": driver[\"driverId\"]\n",
    "                }\n",
    "            ),\n",
    "            content=ExternalItemContent(\n",
    "                type=ExternalItemContentType.Html, value=driverContent\n",
    "            ),\n",
    "            acl=[\n",
    "                Acl(\n",
    "                    type=AclType.Everyone,\n",
    "                    value=\"everyone\",\n",
    "                    access_type=AccessType.Grant,\n",
    "                )\n",
    "            ],\n",
    "            activities=[\n",
    "                ExternalActivity(\n",
    "                    odata_type=\"#microsoft.graph.externalConnectors.externalActivity\",\n",
    "                    type=ExternalActivityType.Created,\n",
    "                    start_date_time=currentDate,\n",
    "                    performed_by=Identity(type=IdentityType.User, id=user_id),\n",
    "                )\n",
    "            ],\n",
    "        )"
   ]
  },
  {
   "cell_type": "code",
   "execution_count": 83,
   "id": "b79a1a6e-da13-4c7c-87b9-befc6cb1842a",
   "metadata": {},
   "outputs": [],
   "source": [
    "async def _load(content: Generator[ExternalItem, None, None]):\n",
    "    counter = 0\n",
    "    for doc in content:\n",
    "        try:\n",
    "            counter += 1\n",
    "            print(f\"{counter} - Loading {doc.id} ...\")\n",
    "            assert external_connection.id is not None\n",
    "            assert doc.id is not None\n",
    "\n",
    "            await client.external.connections.by_external_connection_id(\n",
    "                external_connection.id\n",
    "            ).items.by_external_item_id(doc.id).put(doc)\n",
    "            print(\"DONE loading\")\n",
    "        except Exception as e:\n",
    "            print(f\"Failed to load {doc.id}. Error: {e}\")\n",
    "            return"
   ]
  },
  {
   "cell_type": "code",
   "execution_count": 84,
   "id": "9fb2a9a5-6e34-4136-951c-2214964cb3f4",
   "metadata": {},
   "outputs": [],
   "source": [
    "# Transform only drivers who were born after 1975\n",
    "transformed = _transform(df[df['dob'] >= '1975-01-01'])"
   ]
  },
  {
   "cell_type": "code",
   "execution_count": 85,
   "id": "9962b9f9-8659-4113-bf20-1b251b463cc2",
   "metadata": {},
   "outputs": [
    {
     "name": "stdout",
     "output_type": "stream",
     "text": [
      "Hamilton\n",
      "<h2>Lewis Hamilton</h2><p><b>Lewis Hamilton</b> is a British F1 driver who was born on 1985-01-07.</p><p>Official number is 44 and official code is HAM.</p><p>Additional details can be found at the following URL: <a href='http://en.wikipedia.org/wiki/Lewis_Hamilton'>http://en.wikipedia.org/wiki/Lewis_Hamilton</a></p>\n",
      "1 - Loading Lewis_Hamilton ...\n",
      "DONE loading\n",
      "Heidfeld\n",
      "<h2>Nick Heidfeld</h2><p><b>Nick Heidfeld</b> is a German F1 driver who was born on 1977-05-10.</p><p>Official number is \\N and official code is HEI.</p><p>Additional details can be found at the following URL: <a href='http://en.wikipedia.org/wiki/Nick_Heidfeld'>http://en.wikipedia.org/wiki/Nick_Heidfeld</a></p>\n",
      "2 - Loading Nick_Heidfeld ...\n",
      "DONE loading\n",
      "Rosberg\n",
      "<h2>Nico Rosberg</h2><p><b>Nico Rosberg</b> is a German F1 driver who was born on 1985-06-27.</p><p>Official number is 6 and official code is ROS.</p><p>Additional details can be found at the following URL: <a href='http://en.wikipedia.org/wiki/Nico_Rosberg'>http://en.wikipedia.org/wiki/Nico_Rosberg</a></p>\n",
      "3 - Loading Nico_Rosberg ...\n",
      "DONE loading\n",
      "Alonso\n",
      "<h2>Fernando Alonso</h2><p><b>Fernando Alonso</b> is a Spanish F1 driver who was born on 1981-07-29.</p><p>Official number is 14 and official code is ALO.</p><p>Additional details can be found at the following URL: <a href='http://en.wikipedia.org/wiki/Fernando_Alonso'>http://en.wikipedia.org/wiki/Fernando_Alonso</a></p>\n",
      "4 - Loading Fernando_Alonso ...\n",
      "DONE loading\n",
      "Kovalainen\n",
      "<h2>Heikki Kovalainen</h2><p><b>Heikki Kovalainen</b> is a Finnish F1 driver who was born on 1981-10-19.</p><p>Official number is \\N and official code is KOV.</p><p>Additional details can be found at the following URL: <a href='http://en.wikipedia.org/wiki/Heikki_Kovalainen'>http://en.wikipedia.org/wiki/Heikki_Kovalainen</a></p>\n",
      "5 - Loading Heikki_Kovalainen ...\n",
      "DONE loading\n",
      "Nakajima\n",
      "<h2>Kazuki Nakajima</h2><p><b>Kazuki Nakajima</b> is a Japanese F1 driver who was born on 1985-01-11.</p><p>Official number is \\N and official code is NAK.</p><p>Additional details can be found at the following URL: <a href='http://en.wikipedia.org/wiki/Kazuki_Nakajima'>http://en.wikipedia.org/wiki/Kazuki_Nakajima</a></p>\n",
      "6 - Loading Kazuki_Nakajima ...\n",
      "DONE loading\n",
      "Bourdais\n",
      "<h2>Sébastien Bourdais</h2><p><b>Sébastien Bourdais</b> is a French F1 driver who was born on 1979-02-28.</p><p>Official number is \\N and official code is BOU.</p><p>Additional details can be found at the following URL: <a href='http://en.wikipedia.org/wiki/S%C3%A9bastien_Bourdais'>http://en.wikipedia.org/wiki/S%C3%A9bastien_Bourdais</a></p>\n",
      "7 - Loading Sebastien_Bourdais ...\n",
      "DONE loading\n",
      "Räikkönen\n",
      "<h2>Kimi Räikkönen</h2><p><b>Kimi Räikkönen</b> is a Finnish F1 driver who was born on 1979-10-17.</p><p>Official number is 7 and official code is RAI.</p><p>Additional details can be found at the following URL: <a href='http://en.wikipedia.org/wiki/Kimi_R%C3%A4ikk%C3%B6nen'>http://en.wikipedia.org/wiki/Kimi_R%C3%A4ikk%C3%B6nen</a></p>\n",
      "8 - Loading Kimi_Raikkonen ...\n",
      "DONE loading\n",
      "Kubica\n",
      "<h2>Robert Kubica</h2><p><b>Robert Kubica</b> is a Polish F1 driver who was born on 1984-12-07.</p><p>Official number is 88 and official code is KUB.</p><p>Additional details can be found at the following URL: <a href='http://en.wikipedia.org/wiki/Robert_Kubica'>http://en.wikipedia.org/wiki/Robert_Kubica</a></p>\n",
      "9 - Loading Robert_Kubica ...\n",
      "DONE loading\n",
      "Glock\n",
      "<h2>Timo Glock</h2><p><b>Timo Glock</b> is a German F1 driver who was born on 1982-03-18.</p><p>Official number is \\N and official code is GLO.</p><p>Additional details can be found at the following URL: <a href='http://en.wikipedia.org/wiki/Timo_Glock'>http://en.wikipedia.org/wiki/Timo_Glock</a></p>\n",
      "10 - Loading Timo_Glock ...\n",
      "DONE loading\n",
      "Sato\n",
      "<h2>Takuma Sato</h2><p><b>Takuma Sato</b> is a Japanese F1 driver who was born on 1977-01-28.</p><p>Official number is \\N and official code is SAT.</p><p>Additional details can be found at the following URL: <a href='http://en.wikipedia.org/wiki/Takuma_Sato'>http://en.wikipedia.org/wiki/Takuma_Sato</a></p>\n",
      "11 - Loading Takuma_Sato ...\n",
      "DONE loading\n",
      "Piquet Jr.\n",
      "<h2>Nelson Piquet Jr.</h2><p><b>Nelson Piquet Jr.</b> is a Brazilian F1 driver who was born on 1985-07-25.</p><p>Official number is \\N and official code is PIQ.</p><p>Additional details can be found at the following URL: <a href='http://en.wikipedia.org/wiki/Nelson_Piquet,_Jr.'>http://en.wikipedia.org/wiki/Nelson_Piquet,_Jr.</a></p>\n",
      "12 - Loading Nelson_PiquetJr ...\n",
      "DONE loading\n",
      "Massa\n",
      "<h2>Felipe Massa</h2><p><b>Felipe Massa</b> is a Brazilian F1 driver who was born on 1981-04-25.</p><p>Official number is 19 and official code is MAS.</p><p>Additional details can be found at the following URL: <a href='http://en.wikipedia.org/wiki/Felipe_Massa'>http://en.wikipedia.org/wiki/Felipe_Massa</a></p>\n",
      "13 - Loading Felipe_Massa ...\n",
      "DONE loading\n",
      "Sutil\n",
      "<h2>Adrian Sutil</h2><p><b>Adrian Sutil</b> is a German F1 driver who was born on 1983-01-11.</p><p>Official number is 99 and official code is SUT.</p><p>Additional details can be found at the following URL: <a href='http://en.wikipedia.org/wiki/Adrian_Sutil'>http://en.wikipedia.org/wiki/Adrian_Sutil</a></p>\n",
      "14 - Loading Adrian_Sutil ...\n",
      "DONE loading\n",
      "Webber\n",
      "<h2>Mark Webber</h2><p><b>Mark Webber</b> is a Australian F1 driver who was born on 1976-08-27.</p><p>Official number is \\N and official code is WEB.</p><p>Additional details can be found at the following URL: <a href='http://en.wikipedia.org/wiki/Mark_Webber_(racing_driver)'>http://en.wikipedia.org/wiki/Mark_Webber_(racing_driver)</a></p>\n",
      "15 - Loading Mark_Webber ...\n",
      "DONE loading\n",
      "Button\n",
      "<h2>Jenson Button</h2><p><b>Jenson Button</b> is a British F1 driver who was born on 1980-01-19.</p><p>Official number is 22 and official code is BUT.</p><p>Additional details can be found at the following URL: <a href='http://en.wikipedia.org/wiki/Jenson_Button'>http://en.wikipedia.org/wiki/Jenson_Button</a></p>\n",
      "16 - Loading Jenson_Button ...\n",
      "DONE loading\n",
      "Davidson\n",
      "<h2>Anthony Davidson</h2><p><b>Anthony Davidson</b> is a British F1 driver who was born on 1979-04-18.</p><p>Official number is \\N and official code is DAV.</p><p>Additional details can be found at the following URL: <a href='http://en.wikipedia.org/wiki/Anthony_Davidson'>http://en.wikipedia.org/wiki/Anthony_Davidson</a></p>\n",
      "17 - Loading Anthony_Davidson ...\n",
      "DONE loading\n",
      "Vettel\n",
      "<h2>Sebastian Vettel</h2><p><b>Sebastian Vettel</b> is a German F1 driver who was born on 1987-07-03.</p><p>Official number is 5 and official code is VET.</p><p>Additional details can be found at the following URL: <a href='http://en.wikipedia.org/wiki/Sebastian_Vettel'>http://en.wikipedia.org/wiki/Sebastian_Vettel</a></p>\n",
      "18 - Loading Sebastian_Vettel ...\n"
     ]
    },
    {
     "ename": "CancelledError",
     "evalue": "",
     "output_type": "error",
     "traceback": [
      "\u001b[1;31m---------------------------------------------------------------------------\u001b[0m",
      "\u001b[1;31mCancelledError\u001b[0m                            Traceback (most recent call last)",
      "Cell \u001b[1;32mIn[85], line 1\u001b[0m\n\u001b[1;32m----> 1\u001b[0m result \u001b[38;5;241m=\u001b[39m \u001b[38;5;28;01mawait\u001b[39;00m _load(transformed)\n",
      "Cell \u001b[1;32mIn[83], line 10\u001b[0m, in \u001b[0;36m_load\u001b[1;34m(content)\u001b[0m\n\u001b[0;32m      7\u001b[0m     \u001b[38;5;28;01massert\u001b[39;00m external_connection\u001b[38;5;241m.\u001b[39mid \u001b[38;5;129;01mis\u001b[39;00m \u001b[38;5;129;01mnot\u001b[39;00m \u001b[38;5;28;01mNone\u001b[39;00m\n\u001b[0;32m      8\u001b[0m     \u001b[38;5;28;01massert\u001b[39;00m doc\u001b[38;5;241m.\u001b[39mid \u001b[38;5;129;01mis\u001b[39;00m \u001b[38;5;129;01mnot\u001b[39;00m \u001b[38;5;28;01mNone\u001b[39;00m\n\u001b[1;32m---> 10\u001b[0m     \u001b[38;5;28;01mawait\u001b[39;00m client\u001b[38;5;241m.\u001b[39mexternal\u001b[38;5;241m.\u001b[39mconnections\u001b[38;5;241m.\u001b[39mby_external_connection_id(\n\u001b[0;32m     11\u001b[0m         external_connection\u001b[38;5;241m.\u001b[39mid\n\u001b[0;32m     12\u001b[0m     )\u001b[38;5;241m.\u001b[39mitems\u001b[38;5;241m.\u001b[39mby_external_item_id(doc\u001b[38;5;241m.\u001b[39mid)\u001b[38;5;241m.\u001b[39mput(doc)\n\u001b[0;32m     13\u001b[0m     \u001b[38;5;28mprint\u001b[39m(\u001b[38;5;124m\"\u001b[39m\u001b[38;5;124mDONE loading\u001b[39m\u001b[38;5;124m\"\u001b[39m)\n\u001b[0;32m     14\u001b[0m \u001b[38;5;28;01mexcept\u001b[39;00m \u001b[38;5;167;01mException\u001b[39;00m \u001b[38;5;28;01mas\u001b[39;00m e:\n",
      "File \u001b[1;32m~\\AppData\\Local\\Programs\\Python\\Python312\\Lib\\site-packages\\msgraph\\generated\\external\\connections\\item\\items\\item\\external_item_item_request_builder.py:95\u001b[0m, in \u001b[0;36mExternalItemItemRequestBuilder.put\u001b[1;34m(self, body, request_configuration)\u001b[0m\n\u001b[0;32m     92\u001b[0m     \u001b[38;5;28;01mraise\u001b[39;00m \u001b[38;5;167;01mException\u001b[39;00m(\u001b[38;5;124m\"\u001b[39m\u001b[38;5;124mHttp core is null\u001b[39m\u001b[38;5;124m\"\u001b[39m) \n\u001b[0;32m     93\u001b[0m \u001b[38;5;28;01mfrom\u001b[39;00m \u001b[38;5;21;01m.\u001b[39;00m\u001b[38;5;21;01m.\u001b[39;00m\u001b[38;5;21;01m.\u001b[39;00m\u001b[38;5;21;01m.\u001b[39;00m\u001b[38;5;21;01m.\u001b[39;00m\u001b[38;5;21;01m.\u001b[39;00m\u001b[38;5;21;01mmodels\u001b[39;00m\u001b[38;5;21;01m.\u001b[39;00m\u001b[38;5;21;01mexternal_connectors\u001b[39;00m\u001b[38;5;21;01m.\u001b[39;00m\u001b[38;5;21;01mexternal_item\u001b[39;00m \u001b[38;5;28;01mimport\u001b[39;00m ExternalItem\n\u001b[1;32m---> 95\u001b[0m \u001b[38;5;28;01mreturn\u001b[39;00m \u001b[38;5;28;01mawait\u001b[39;00m \u001b[38;5;28mself\u001b[39m\u001b[38;5;241m.\u001b[39mrequest_adapter\u001b[38;5;241m.\u001b[39msend_async(request_info, ExternalItem, error_mapping)\n",
      "File \u001b[1;32m~\\AppData\\Local\\Programs\\Python\\Python312\\Lib\\site-packages\\kiota_http\\httpx_request_adapter.py:178\u001b[0m, in \u001b[0;36mHttpxRequestAdapter.send_async\u001b[1;34m(self, request_info, parsable_factory, error_map)\u001b[0m\n\u001b[0;32m    175\u001b[0m     parent_span\u001b[38;5;241m.\u001b[39mrecord_exception(REQUEST_IS_NULL)\n\u001b[0;32m    176\u001b[0m     \u001b[38;5;28;01mraise\u001b[39;00m REQUEST_IS_NULL\n\u001b[1;32m--> 178\u001b[0m response \u001b[38;5;241m=\u001b[39m \u001b[38;5;28;01mawait\u001b[39;00m \u001b[38;5;28mself\u001b[39m\u001b[38;5;241m.\u001b[39mget_http_response_message(request_info, parent_span)\n\u001b[0;32m    180\u001b[0m response_handler \u001b[38;5;241m=\u001b[39m \u001b[38;5;28mself\u001b[39m\u001b[38;5;241m.\u001b[39mget_response_handler(request_info)\n\u001b[0;32m    181\u001b[0m \u001b[38;5;28;01mif\u001b[39;00m response_handler:\n",
      "File \u001b[1;32m~\\AppData\\Local\\Programs\\Python\\Python312\\Lib\\site-packages\\kiota_http\\httpx_request_adapter.py:530\u001b[0m, in \u001b[0;36mHttpxRequestAdapter.get_http_response_message\u001b[1;34m(self, request_info, parent_span, claims)\u001b[0m\n\u001b[0;32m    523\u001b[0m \u001b[38;5;28;01mawait\u001b[39;00m \u001b[38;5;28mself\u001b[39m\u001b[38;5;241m.\u001b[39m_authentication_provider\u001b[38;5;241m.\u001b[39mauthenticate_request(\n\u001b[0;32m    524\u001b[0m     request_info, additional_authentication_context\n\u001b[0;32m    525\u001b[0m )\n\u001b[0;32m    527\u001b[0m request \u001b[38;5;241m=\u001b[39m \u001b[38;5;28mself\u001b[39m\u001b[38;5;241m.\u001b[39mget_request_from_request_information(\n\u001b[0;32m    528\u001b[0m     request_info, _get_http_resp_span, parent_span\n\u001b[0;32m    529\u001b[0m )\n\u001b[1;32m--> 530\u001b[0m resp \u001b[38;5;241m=\u001b[39m \u001b[38;5;28;01mawait\u001b[39;00m \u001b[38;5;28mself\u001b[39m\u001b[38;5;241m.\u001b[39m_http_client\u001b[38;5;241m.\u001b[39msend(request)\n\u001b[0;32m    531\u001b[0m \u001b[38;5;28;01mif\u001b[39;00m \u001b[38;5;129;01mnot\u001b[39;00m resp:\n\u001b[0;32m    532\u001b[0m     \u001b[38;5;28;01mraise\u001b[39;00m ResponseError(\u001b[38;5;124m\"\u001b[39m\u001b[38;5;124mUnable to get response from request\u001b[39m\u001b[38;5;124m\"\u001b[39m)\n",
      "File \u001b[1;32m~\\AppData\\Local\\Programs\\Python\\Python312\\Lib\\site-packages\\httpx\\_client.py:1661\u001b[0m, in \u001b[0;36mAsyncClient.send\u001b[1;34m(self, request, stream, auth, follow_redirects)\u001b[0m\n\u001b[0;32m   1653\u001b[0m follow_redirects \u001b[38;5;241m=\u001b[39m (\n\u001b[0;32m   1654\u001b[0m     \u001b[38;5;28mself\u001b[39m\u001b[38;5;241m.\u001b[39mfollow_redirects\n\u001b[0;32m   1655\u001b[0m     \u001b[38;5;28;01mif\u001b[39;00m \u001b[38;5;28misinstance\u001b[39m(follow_redirects, UseClientDefault)\n\u001b[0;32m   1656\u001b[0m     \u001b[38;5;28;01melse\u001b[39;00m follow_redirects\n\u001b[0;32m   1657\u001b[0m )\n\u001b[0;32m   1659\u001b[0m auth \u001b[38;5;241m=\u001b[39m \u001b[38;5;28mself\u001b[39m\u001b[38;5;241m.\u001b[39m_build_request_auth(request, auth)\n\u001b[1;32m-> 1661\u001b[0m response \u001b[38;5;241m=\u001b[39m \u001b[38;5;28;01mawait\u001b[39;00m \u001b[38;5;28mself\u001b[39m\u001b[38;5;241m.\u001b[39m_send_handling_auth(\n\u001b[0;32m   1662\u001b[0m     request,\n\u001b[0;32m   1663\u001b[0m     auth\u001b[38;5;241m=\u001b[39mauth,\n\u001b[0;32m   1664\u001b[0m     follow_redirects\u001b[38;5;241m=\u001b[39mfollow_redirects,\n\u001b[0;32m   1665\u001b[0m     history\u001b[38;5;241m=\u001b[39m[],\n\u001b[0;32m   1666\u001b[0m )\n\u001b[0;32m   1667\u001b[0m \u001b[38;5;28;01mtry\u001b[39;00m:\n\u001b[0;32m   1668\u001b[0m     \u001b[38;5;28;01mif\u001b[39;00m \u001b[38;5;129;01mnot\u001b[39;00m stream:\n",
      "File \u001b[1;32m~\\AppData\\Local\\Programs\\Python\\Python312\\Lib\\site-packages\\httpx\\_client.py:1689\u001b[0m, in \u001b[0;36mAsyncClient._send_handling_auth\u001b[1;34m(self, request, auth, follow_redirects, history)\u001b[0m\n\u001b[0;32m   1686\u001b[0m request \u001b[38;5;241m=\u001b[39m \u001b[38;5;28;01mawait\u001b[39;00m auth_flow\u001b[38;5;241m.\u001b[39m\u001b[38;5;21m__anext__\u001b[39m()\n\u001b[0;32m   1688\u001b[0m \u001b[38;5;28;01mwhile\u001b[39;00m \u001b[38;5;28;01mTrue\u001b[39;00m:\n\u001b[1;32m-> 1689\u001b[0m     response \u001b[38;5;241m=\u001b[39m \u001b[38;5;28;01mawait\u001b[39;00m \u001b[38;5;28mself\u001b[39m\u001b[38;5;241m.\u001b[39m_send_handling_redirects(\n\u001b[0;32m   1690\u001b[0m         request,\n\u001b[0;32m   1691\u001b[0m         follow_redirects\u001b[38;5;241m=\u001b[39mfollow_redirects,\n\u001b[0;32m   1692\u001b[0m         history\u001b[38;5;241m=\u001b[39mhistory,\n\u001b[0;32m   1693\u001b[0m     )\n\u001b[0;32m   1694\u001b[0m     \u001b[38;5;28;01mtry\u001b[39;00m:\n\u001b[0;32m   1695\u001b[0m         \u001b[38;5;28;01mtry\u001b[39;00m:\n",
      "File \u001b[1;32m~\\AppData\\Local\\Programs\\Python\\Python312\\Lib\\site-packages\\httpx\\_client.py:1726\u001b[0m, in \u001b[0;36mAsyncClient._send_handling_redirects\u001b[1;34m(self, request, follow_redirects, history)\u001b[0m\n\u001b[0;32m   1723\u001b[0m \u001b[38;5;28;01mfor\u001b[39;00m hook \u001b[38;5;129;01min\u001b[39;00m \u001b[38;5;28mself\u001b[39m\u001b[38;5;241m.\u001b[39m_event_hooks[\u001b[38;5;124m\"\u001b[39m\u001b[38;5;124mrequest\u001b[39m\u001b[38;5;124m\"\u001b[39m]:\n\u001b[0;32m   1724\u001b[0m     \u001b[38;5;28;01mawait\u001b[39;00m hook(request)\n\u001b[1;32m-> 1726\u001b[0m response \u001b[38;5;241m=\u001b[39m \u001b[38;5;28;01mawait\u001b[39;00m \u001b[38;5;28mself\u001b[39m\u001b[38;5;241m.\u001b[39m_send_single_request(request)\n\u001b[0;32m   1727\u001b[0m \u001b[38;5;28;01mtry\u001b[39;00m:\n\u001b[0;32m   1728\u001b[0m     \u001b[38;5;28;01mfor\u001b[39;00m hook \u001b[38;5;129;01min\u001b[39;00m \u001b[38;5;28mself\u001b[39m\u001b[38;5;241m.\u001b[39m_event_hooks[\u001b[38;5;124m\"\u001b[39m\u001b[38;5;124mresponse\u001b[39m\u001b[38;5;124m\"\u001b[39m]:\n",
      "File \u001b[1;32m~\\AppData\\Local\\Programs\\Python\\Python312\\Lib\\site-packages\\httpx\\_client.py:1763\u001b[0m, in \u001b[0;36mAsyncClient._send_single_request\u001b[1;34m(self, request)\u001b[0m\n\u001b[0;32m   1758\u001b[0m     \u001b[38;5;28;01mraise\u001b[39;00m \u001b[38;5;167;01mRuntimeError\u001b[39;00m(\n\u001b[0;32m   1759\u001b[0m         \u001b[38;5;124m\"\u001b[39m\u001b[38;5;124mAttempted to send an sync request with an AsyncClient instance.\u001b[39m\u001b[38;5;124m\"\u001b[39m\n\u001b[0;32m   1760\u001b[0m     )\n\u001b[0;32m   1762\u001b[0m \u001b[38;5;28;01mwith\u001b[39;00m request_context(request\u001b[38;5;241m=\u001b[39mrequest):\n\u001b[1;32m-> 1763\u001b[0m     response \u001b[38;5;241m=\u001b[39m \u001b[38;5;28;01mawait\u001b[39;00m transport\u001b[38;5;241m.\u001b[39mhandle_async_request(request)\n\u001b[0;32m   1765\u001b[0m \u001b[38;5;28;01massert\u001b[39;00m \u001b[38;5;28misinstance\u001b[39m(response\u001b[38;5;241m.\u001b[39mstream, AsyncByteStream)\n\u001b[0;32m   1766\u001b[0m response\u001b[38;5;241m.\u001b[39mrequest \u001b[38;5;241m=\u001b[39m request\n",
      "File \u001b[1;32m~\\AppData\\Local\\Programs\\Python\\Python312\\Lib\\site-packages\\msgraph_core\\middleware\\async_graph_transport.py:21\u001b[0m, in \u001b[0;36mAsyncGraphTransport.handle_async_request\u001b[1;34m(self, request)\u001b[0m\n\u001b[0;32m     19\u001b[0m \u001b[38;5;28;01mif\u001b[39;00m \u001b[38;5;28mself\u001b[39m\u001b[38;5;241m.\u001b[39mpipeline \u001b[38;5;129;01mand\u001b[39;00m \u001b[38;5;28mhasattr\u001b[39m(request, \u001b[38;5;124m'\u001b[39m\u001b[38;5;124moptions\u001b[39m\u001b[38;5;124m'\u001b[39m):\n\u001b[0;32m     20\u001b[0m     \u001b[38;5;28mself\u001b[39m\u001b[38;5;241m.\u001b[39mset_request_context_and_feature_usage(request)\n\u001b[1;32m---> 21\u001b[0m     response \u001b[38;5;241m=\u001b[39m \u001b[38;5;28;01mawait\u001b[39;00m \u001b[38;5;28mself\u001b[39m\u001b[38;5;241m.\u001b[39mpipeline\u001b[38;5;241m.\u001b[39msend(request)\n\u001b[0;32m     22\u001b[0m     \u001b[38;5;28;01mreturn\u001b[39;00m response\n\u001b[0;32m     24\u001b[0m response \u001b[38;5;241m=\u001b[39m \u001b[38;5;28;01mawait\u001b[39;00m \u001b[38;5;28mself\u001b[39m\u001b[38;5;241m.\u001b[39mtransport\u001b[38;5;241m.\u001b[39mhandle_async_request(request)\n",
      "File \u001b[1;32m~\\AppData\\Local\\Programs\\Python\\Python312\\Lib\\site-packages\\kiota_http\\middleware\\middleware.py:38\u001b[0m, in \u001b[0;36mMiddlewarePipeline.send\u001b[1;34m(self, request)\u001b[0m\n\u001b[0;32m     35\u001b[0m \u001b[38;5;28;01masync\u001b[39;00m \u001b[38;5;28;01mdef\u001b[39;00m \u001b[38;5;21msend\u001b[39m(\u001b[38;5;28mself\u001b[39m, request):\n\u001b[0;32m     37\u001b[0m     \u001b[38;5;28;01mif\u001b[39;00m \u001b[38;5;28mself\u001b[39m\u001b[38;5;241m.\u001b[39m_middleware_present():\n\u001b[1;32m---> 38\u001b[0m         \u001b[38;5;28;01mreturn\u001b[39;00m \u001b[38;5;28;01mawait\u001b[39;00m \u001b[38;5;28mself\u001b[39m\u001b[38;5;241m.\u001b[39m_first_middleware\u001b[38;5;241m.\u001b[39msend(request, \u001b[38;5;28mself\u001b[39m\u001b[38;5;241m.\u001b[39m_transport)\n\u001b[0;32m     39\u001b[0m     \u001b[38;5;66;03m# No middleware in pipeline, delete request optoions from header and\u001b[39;00m\n\u001b[0;32m     40\u001b[0m     \u001b[38;5;66;03m# send the request\u001b[39;00m\n\u001b[0;32m     41\u001b[0m     \u001b[38;5;28;01mdel\u001b[39;00m request\u001b[38;5;241m.\u001b[39mheaders[\u001b[38;5;124m'\u001b[39m\u001b[38;5;124mrequest_options\u001b[39m\u001b[38;5;124m'\u001b[39m]\n",
      "File \u001b[1;32m~\\AppData\\Local\\Programs\\Python\\Python312\\Lib\\site-packages\\kiota_http\\middleware\\redirect_handler.py:77\u001b[0m, in \u001b[0;36mRedirectHandler.send\u001b[1;34m(self, request, transport)\u001b[0m\n\u001b[0;32m     73\u001b[0m \u001b[38;5;28;01mwhile\u001b[39;00m max_redirect \u001b[38;5;241m>\u001b[39m\u001b[38;5;241m=\u001b[39m \u001b[38;5;241m0\u001b[39m:\n\u001b[0;32m     74\u001b[0m     _redirect_span \u001b[38;5;241m=\u001b[39m \u001b[38;5;28mself\u001b[39m\u001b[38;5;241m.\u001b[39m_create_observability_span(\n\u001b[0;32m     75\u001b[0m         request, \u001b[38;5;124mf\u001b[39m\u001b[38;5;124m\"\u001b[39m\u001b[38;5;124mRedirectHandler_send - redirect \u001b[39m\u001b[38;5;132;01m{\u001b[39;00m\u001b[38;5;28mlen\u001b[39m(history)\u001b[38;5;132;01m}\u001b[39;00m\u001b[38;5;124m\"\u001b[39m\n\u001b[0;32m     76\u001b[0m     )\n\u001b[1;32m---> 77\u001b[0m     response \u001b[38;5;241m=\u001b[39m \u001b[38;5;28;01mawait\u001b[39;00m \u001b[38;5;28msuper\u001b[39m()\u001b[38;5;241m.\u001b[39msend(request, transport)\n\u001b[0;32m     78\u001b[0m     _redirect_span\u001b[38;5;241m.\u001b[39mset_attribute(SpanAttributes\u001b[38;5;241m.\u001b[39mHTTP_STATUS_CODE, response\u001b[38;5;241m.\u001b[39mstatus_code)\n\u001b[0;32m     79\u001b[0m     redirect_location \u001b[38;5;241m=\u001b[39m \u001b[38;5;28mself\u001b[39m\u001b[38;5;241m.\u001b[39mget_redirect_location(response)\n",
      "File \u001b[1;32m~\\AppData\\Local\\Programs\\Python\\Python312\\Lib\\site-packages\\kiota_http\\middleware\\middleware.py:65\u001b[0m, in \u001b[0;36mBaseMiddleware.send\u001b[1;34m(self, request, transport)\u001b[0m\n\u001b[0;32m     63\u001b[0m     response\u001b[38;5;241m.\u001b[39mrequest \u001b[38;5;241m=\u001b[39m request\n\u001b[0;32m     64\u001b[0m     \u001b[38;5;28;01mreturn\u001b[39;00m response\n\u001b[1;32m---> 65\u001b[0m \u001b[38;5;28;01mreturn\u001b[39;00m \u001b[38;5;28;01mawait\u001b[39;00m \u001b[38;5;28mself\u001b[39m\u001b[38;5;241m.\u001b[39mnext\u001b[38;5;241m.\u001b[39msend(request, transport)\n",
      "File \u001b[1;32m~\\AppData\\Local\\Programs\\Python\\Python312\\Lib\\site-packages\\kiota_http\\middleware\\retry_handler.py:83\u001b[0m, in \u001b[0;36mRetryHandler.send\u001b[1;34m(self, request, transport)\u001b[0m\n\u001b[0;32m     81\u001b[0m \u001b[38;5;28;01mwhile\u001b[39;00m retry_valid:\n\u001b[0;32m     82\u001b[0m     start_time \u001b[38;5;241m=\u001b[39m time\u001b[38;5;241m.\u001b[39mtime()\n\u001b[1;32m---> 83\u001b[0m     response \u001b[38;5;241m=\u001b[39m \u001b[38;5;28;01mawait\u001b[39;00m \u001b[38;5;28msuper\u001b[39m()\u001b[38;5;241m.\u001b[39msend(request, transport)\n\u001b[0;32m     84\u001b[0m     _retry_span\u001b[38;5;241m.\u001b[39mset_attribute(SpanAttributes\u001b[38;5;241m.\u001b[39mHTTP_STATUS_CODE, response\u001b[38;5;241m.\u001b[39mstatus_code)\n\u001b[0;32m     85\u001b[0m     \u001b[38;5;66;03m# check that max retries has not been hit\u001b[39;00m\n",
      "File \u001b[1;32m~\\AppData\\Local\\Programs\\Python\\Python312\\Lib\\site-packages\\kiota_http\\middleware\\middleware.py:65\u001b[0m, in \u001b[0;36mBaseMiddleware.send\u001b[1;34m(self, request, transport)\u001b[0m\n\u001b[0;32m     63\u001b[0m     response\u001b[38;5;241m.\u001b[39mrequest \u001b[38;5;241m=\u001b[39m request\n\u001b[0;32m     64\u001b[0m     \u001b[38;5;28;01mreturn\u001b[39;00m response\n\u001b[1;32m---> 65\u001b[0m \u001b[38;5;28;01mreturn\u001b[39;00m \u001b[38;5;28;01mawait\u001b[39;00m \u001b[38;5;28mself\u001b[39m\u001b[38;5;241m.\u001b[39mnext\u001b[38;5;241m.\u001b[39msend(request, transport)\n",
      "File \u001b[1;32m~\\AppData\\Local\\Programs\\Python\\Python312\\Lib\\site-packages\\kiota_http\\middleware\\parameters_name_decoding_handler.py:62\u001b[0m, in \u001b[0;36mParametersNameDecodingHandler.send\u001b[1;34m(self, request, transport)\u001b[0m\n\u001b[0;32m     60\u001b[0m     new_url \u001b[38;5;241m=\u001b[39m original_url\u001b[38;5;241m.\u001b[39mreplace(query_params, decoded_query_parameters_string)\n\u001b[0;32m     61\u001b[0m     request\u001b[38;5;241m.\u001b[39murl \u001b[38;5;241m=\u001b[39m httpx\u001b[38;5;241m.\u001b[39mURL(new_url)\n\u001b[1;32m---> 62\u001b[0m response \u001b[38;5;241m=\u001b[39m \u001b[38;5;28;01mawait\u001b[39;00m \u001b[38;5;28msuper\u001b[39m()\u001b[38;5;241m.\u001b[39msend(request, transport)\n\u001b[0;32m     63\u001b[0m \u001b[38;5;28;01mreturn\u001b[39;00m response\n",
      "File \u001b[1;32m~\\AppData\\Local\\Programs\\Python\\Python312\\Lib\\site-packages\\kiota_http\\middleware\\middleware.py:65\u001b[0m, in \u001b[0;36mBaseMiddleware.send\u001b[1;34m(self, request, transport)\u001b[0m\n\u001b[0;32m     63\u001b[0m     response\u001b[38;5;241m.\u001b[39mrequest \u001b[38;5;241m=\u001b[39m request\n\u001b[0;32m     64\u001b[0m     \u001b[38;5;28;01mreturn\u001b[39;00m response\n\u001b[1;32m---> 65\u001b[0m \u001b[38;5;28;01mreturn\u001b[39;00m \u001b[38;5;28;01mawait\u001b[39;00m \u001b[38;5;28mself\u001b[39m\u001b[38;5;241m.\u001b[39mnext\u001b[38;5;241m.\u001b[39msend(request, transport)\n",
      "File \u001b[1;32m~\\AppData\\Local\\Programs\\Python\\Python312\\Lib\\site-packages\\kiota_http\\middleware\\url_replace_handler.py:44\u001b[0m, in \u001b[0;36mUrlReplaceHandler.send\u001b[1;34m(self, request, transport)\u001b[0m\n\u001b[0;32m     42\u001b[0m     request\u001b[38;5;241m.\u001b[39murl \u001b[38;5;241m=\u001b[39m httpx\u001b[38;5;241m.\u001b[39mURL(url_string)\n\u001b[0;32m     43\u001b[0m     _enable_span\u001b[38;5;241m.\u001b[39mset_attribute(SpanAttributes\u001b[38;5;241m.\u001b[39mHTTP_URL, \u001b[38;5;28mstr\u001b[39m(request\u001b[38;5;241m.\u001b[39murl))\n\u001b[1;32m---> 44\u001b[0m response \u001b[38;5;241m=\u001b[39m \u001b[38;5;28;01mawait\u001b[39;00m \u001b[38;5;28msuper\u001b[39m()\u001b[38;5;241m.\u001b[39msend(request, transport)\n\u001b[0;32m     45\u001b[0m _enable_span\u001b[38;5;241m.\u001b[39mend()\n\u001b[0;32m     46\u001b[0m \u001b[38;5;28;01mreturn\u001b[39;00m response\n",
      "File \u001b[1;32m~\\AppData\\Local\\Programs\\Python\\Python312\\Lib\\site-packages\\kiota_http\\middleware\\middleware.py:65\u001b[0m, in \u001b[0;36mBaseMiddleware.send\u001b[1;34m(self, request, transport)\u001b[0m\n\u001b[0;32m     63\u001b[0m     response\u001b[38;5;241m.\u001b[39mrequest \u001b[38;5;241m=\u001b[39m request\n\u001b[0;32m     64\u001b[0m     \u001b[38;5;28;01mreturn\u001b[39;00m response\n\u001b[1;32m---> 65\u001b[0m \u001b[38;5;28;01mreturn\u001b[39;00m \u001b[38;5;28;01mawait\u001b[39;00m \u001b[38;5;28mself\u001b[39m\u001b[38;5;241m.\u001b[39mnext\u001b[38;5;241m.\u001b[39msend(request, transport)\n",
      "File \u001b[1;32m~\\AppData\\Local\\Programs\\Python\\Python312\\Lib\\site-packages\\kiota_http\\middleware\\user_agent_handler.py:29\u001b[0m, in \u001b[0;36mUserAgentHandler.send\u001b[1;34m(self, request, transport)\u001b[0m\n\u001b[0;32m     27\u001b[0m     \u001b[38;5;28mself\u001b[39m\u001b[38;5;241m.\u001b[39m_update_user_agent(request, value)\n\u001b[0;32m     28\u001b[0m _span\u001b[38;5;241m.\u001b[39mend()\n\u001b[1;32m---> 29\u001b[0m \u001b[38;5;28;01mreturn\u001b[39;00m \u001b[38;5;28;01mawait\u001b[39;00m \u001b[38;5;28msuper\u001b[39m()\u001b[38;5;241m.\u001b[39msend(request, transport)\n",
      "File \u001b[1;32m~\\AppData\\Local\\Programs\\Python\\Python312\\Lib\\site-packages\\kiota_http\\middleware\\middleware.py:65\u001b[0m, in \u001b[0;36mBaseMiddleware.send\u001b[1;34m(self, request, transport)\u001b[0m\n\u001b[0;32m     63\u001b[0m     response\u001b[38;5;241m.\u001b[39mrequest \u001b[38;5;241m=\u001b[39m request\n\u001b[0;32m     64\u001b[0m     \u001b[38;5;28;01mreturn\u001b[39;00m response\n\u001b[1;32m---> 65\u001b[0m \u001b[38;5;28;01mreturn\u001b[39;00m \u001b[38;5;28;01mawait\u001b[39;00m \u001b[38;5;28mself\u001b[39m\u001b[38;5;241m.\u001b[39mnext\u001b[38;5;241m.\u001b[39msend(request, transport)\n",
      "File \u001b[1;32m~\\AppData\\Local\\Programs\\Python\\Python312\\Lib\\site-packages\\kiota_http\\middleware\\headers_inspection_handler.py:54\u001b[0m, in \u001b[0;36mHeadersInspectionHandler.send\u001b[1;34m(self, request, transport)\u001b[0m\n\u001b[0;32m     52\u001b[0m     \u001b[38;5;28;01mfor\u001b[39;00m header \u001b[38;5;129;01min\u001b[39;00m request\u001b[38;5;241m.\u001b[39mheaders:\n\u001b[0;32m     53\u001b[0m         current_options\u001b[38;5;241m.\u001b[39mrequest_headers\u001b[38;5;241m.\u001b[39madd(header, request\u001b[38;5;241m.\u001b[39mheaders[header])\n\u001b[1;32m---> 54\u001b[0m response \u001b[38;5;241m=\u001b[39m \u001b[38;5;28;01mawait\u001b[39;00m \u001b[38;5;28msuper\u001b[39m()\u001b[38;5;241m.\u001b[39msend(request, transport)\n\u001b[0;32m     55\u001b[0m \u001b[38;5;28;01mif\u001b[39;00m current_options \u001b[38;5;129;01mand\u001b[39;00m current_options\u001b[38;5;241m.\u001b[39minspect_response_headers:\n\u001b[0;32m     56\u001b[0m     \u001b[38;5;28;01mfor\u001b[39;00m header \u001b[38;5;129;01min\u001b[39;00m response\u001b[38;5;241m.\u001b[39mheaders:\n",
      "File \u001b[1;32m~\\AppData\\Local\\Programs\\Python\\Python312\\Lib\\site-packages\\kiota_http\\middleware\\middleware.py:65\u001b[0m, in \u001b[0;36mBaseMiddleware.send\u001b[1;34m(self, request, transport)\u001b[0m\n\u001b[0;32m     63\u001b[0m     response\u001b[38;5;241m.\u001b[39mrequest \u001b[38;5;241m=\u001b[39m request\n\u001b[0;32m     64\u001b[0m     \u001b[38;5;28;01mreturn\u001b[39;00m response\n\u001b[1;32m---> 65\u001b[0m \u001b[38;5;28;01mreturn\u001b[39;00m \u001b[38;5;28;01mawait\u001b[39;00m \u001b[38;5;28mself\u001b[39m\u001b[38;5;241m.\u001b[39mnext\u001b[38;5;241m.\u001b[39msend(request, transport)\n",
      "File \u001b[1;32m~\\AppData\\Local\\Programs\\Python\\Python312\\Lib\\site-packages\\msgraph_core\\middleware\\telemetry.py:48\u001b[0m, in \u001b[0;36mGraphTelemetryHandler.send\u001b[1;34m(self, request, transport)\u001b[0m\n\u001b[0;32m     45\u001b[0m     \u001b[38;5;28mself\u001b[39m\u001b[38;5;241m.\u001b[39m_add_host_os_header(request)\n\u001b[0;32m     46\u001b[0m     \u001b[38;5;28mself\u001b[39m\u001b[38;5;241m.\u001b[39m_add_runtime_environment_header(request)\n\u001b[1;32m---> 48\u001b[0m response \u001b[38;5;241m=\u001b[39m \u001b[38;5;28;01mawait\u001b[39;00m \u001b[38;5;28msuper\u001b[39m()\u001b[38;5;241m.\u001b[39msend(request, transport)\n\u001b[0;32m     49\u001b[0m \u001b[38;5;28;01mreturn\u001b[39;00m response\n",
      "File \u001b[1;32m~\\AppData\\Local\\Programs\\Python\\Python312\\Lib\\site-packages\\kiota_http\\middleware\\middleware.py:62\u001b[0m, in \u001b[0;36mBaseMiddleware.send\u001b[1;34m(self, request, transport)\u001b[0m\n\u001b[0;32m     60\u001b[0m \u001b[38;5;28;01mif\u001b[39;00m \u001b[38;5;28mhasattr\u001b[39m(request, \u001b[38;5;124m\"\u001b[39m\u001b[38;5;124moptions\u001b[39m\u001b[38;5;124m\"\u001b[39m) \u001b[38;5;129;01mand\u001b[39;00m request\u001b[38;5;241m.\u001b[39moptions:\n\u001b[0;32m     61\u001b[0m     \u001b[38;5;28mdelattr\u001b[39m(request, \u001b[38;5;124m'\u001b[39m\u001b[38;5;124moptions\u001b[39m\u001b[38;5;124m'\u001b[39m)\n\u001b[1;32m---> 62\u001b[0m response \u001b[38;5;241m=\u001b[39m \u001b[38;5;28;01mawait\u001b[39;00m transport\u001b[38;5;241m.\u001b[39mhandle_async_request(request)\n\u001b[0;32m     63\u001b[0m response\u001b[38;5;241m.\u001b[39mrequest \u001b[38;5;241m=\u001b[39m request\n\u001b[0;32m     64\u001b[0m \u001b[38;5;28;01mreturn\u001b[39;00m response\n",
      "File \u001b[1;32m~\\AppData\\Local\\Programs\\Python\\Python312\\Lib\\site-packages\\msgraph_core\\middleware\\async_graph_transport.py:24\u001b[0m, in \u001b[0;36mAsyncGraphTransport.handle_async_request\u001b[1;34m(self, request)\u001b[0m\n\u001b[0;32m     21\u001b[0m     response \u001b[38;5;241m=\u001b[39m \u001b[38;5;28;01mawait\u001b[39;00m \u001b[38;5;28mself\u001b[39m\u001b[38;5;241m.\u001b[39mpipeline\u001b[38;5;241m.\u001b[39msend(request)\n\u001b[0;32m     22\u001b[0m     \u001b[38;5;28;01mreturn\u001b[39;00m response\n\u001b[1;32m---> 24\u001b[0m response \u001b[38;5;241m=\u001b[39m \u001b[38;5;28;01mawait\u001b[39;00m \u001b[38;5;28mself\u001b[39m\u001b[38;5;241m.\u001b[39mtransport\u001b[38;5;241m.\u001b[39mhandle_async_request(request)\n\u001b[0;32m     25\u001b[0m \u001b[38;5;28;01mreturn\u001b[39;00m response\n",
      "File \u001b[1;32m~\\AppData\\Local\\Programs\\Python\\Python312\\Lib\\site-packages\\httpx\\_transports\\default.py:373\u001b[0m, in \u001b[0;36mAsyncHTTPTransport.handle_async_request\u001b[1;34m(self, request)\u001b[0m\n\u001b[0;32m    360\u001b[0m req \u001b[38;5;241m=\u001b[39m httpcore\u001b[38;5;241m.\u001b[39mRequest(\n\u001b[0;32m    361\u001b[0m     method\u001b[38;5;241m=\u001b[39mrequest\u001b[38;5;241m.\u001b[39mmethod,\n\u001b[0;32m    362\u001b[0m     url\u001b[38;5;241m=\u001b[39mhttpcore\u001b[38;5;241m.\u001b[39mURL(\n\u001b[1;32m   (...)\u001b[0m\n\u001b[0;32m    370\u001b[0m     extensions\u001b[38;5;241m=\u001b[39mrequest\u001b[38;5;241m.\u001b[39mextensions,\n\u001b[0;32m    371\u001b[0m )\n\u001b[0;32m    372\u001b[0m \u001b[38;5;28;01mwith\u001b[39;00m map_httpcore_exceptions():\n\u001b[1;32m--> 373\u001b[0m     resp \u001b[38;5;241m=\u001b[39m \u001b[38;5;28;01mawait\u001b[39;00m \u001b[38;5;28mself\u001b[39m\u001b[38;5;241m.\u001b[39m_pool\u001b[38;5;241m.\u001b[39mhandle_async_request(req)\n\u001b[0;32m    375\u001b[0m \u001b[38;5;28;01massert\u001b[39;00m \u001b[38;5;28misinstance\u001b[39m(resp\u001b[38;5;241m.\u001b[39mstream, typing\u001b[38;5;241m.\u001b[39mAsyncIterable)\n\u001b[0;32m    377\u001b[0m \u001b[38;5;28;01mreturn\u001b[39;00m Response(\n\u001b[0;32m    378\u001b[0m     status_code\u001b[38;5;241m=\u001b[39mresp\u001b[38;5;241m.\u001b[39mstatus,\n\u001b[0;32m    379\u001b[0m     headers\u001b[38;5;241m=\u001b[39mresp\u001b[38;5;241m.\u001b[39mheaders,\n\u001b[0;32m    380\u001b[0m     stream\u001b[38;5;241m=\u001b[39mAsyncResponseStream(resp\u001b[38;5;241m.\u001b[39mstream),\n\u001b[0;32m    381\u001b[0m     extensions\u001b[38;5;241m=\u001b[39mresp\u001b[38;5;241m.\u001b[39mextensions,\n\u001b[0;32m    382\u001b[0m )\n",
      "File \u001b[1;32m~\\AppData\\Local\\Programs\\Python\\Python312\\Lib\\site-packages\\httpcore\\_async\\connection_pool.py:216\u001b[0m, in \u001b[0;36mAsyncConnectionPool.handle_async_request\u001b[1;34m(self, request)\u001b[0m\n\u001b[0;32m    213\u001b[0m         closing \u001b[38;5;241m=\u001b[39m \u001b[38;5;28mself\u001b[39m\u001b[38;5;241m.\u001b[39m_assign_requests_to_connections()\n\u001b[0;32m    215\u001b[0m     \u001b[38;5;28;01mawait\u001b[39;00m \u001b[38;5;28mself\u001b[39m\u001b[38;5;241m.\u001b[39m_close_connections(closing)\n\u001b[1;32m--> 216\u001b[0m     \u001b[38;5;28;01mraise\u001b[39;00m exc \u001b[38;5;28;01mfrom\u001b[39;00m \u001b[38;5;28;01mNone\u001b[39;00m\n\u001b[0;32m    218\u001b[0m \u001b[38;5;66;03m# Return the response. Note that in this case we still have to manage\u001b[39;00m\n\u001b[0;32m    219\u001b[0m \u001b[38;5;66;03m# the point at which the response is closed.\u001b[39;00m\n\u001b[0;32m    220\u001b[0m \u001b[38;5;28;01massert\u001b[39;00m \u001b[38;5;28misinstance\u001b[39m(response\u001b[38;5;241m.\u001b[39mstream, AsyncIterable)\n",
      "File \u001b[1;32m~\\AppData\\Local\\Programs\\Python\\Python312\\Lib\\site-packages\\httpcore\\_async\\connection_pool.py:196\u001b[0m, in \u001b[0;36mAsyncConnectionPool.handle_async_request\u001b[1;34m(self, request)\u001b[0m\n\u001b[0;32m    192\u001b[0m connection \u001b[38;5;241m=\u001b[39m \u001b[38;5;28;01mawait\u001b[39;00m pool_request\u001b[38;5;241m.\u001b[39mwait_for_connection(timeout\u001b[38;5;241m=\u001b[39mtimeout)\n\u001b[0;32m    194\u001b[0m \u001b[38;5;28;01mtry\u001b[39;00m:\n\u001b[0;32m    195\u001b[0m     \u001b[38;5;66;03m# Send the request on the assigned connection.\u001b[39;00m\n\u001b[1;32m--> 196\u001b[0m     response \u001b[38;5;241m=\u001b[39m \u001b[38;5;28;01mawait\u001b[39;00m connection\u001b[38;5;241m.\u001b[39mhandle_async_request(\n\u001b[0;32m    197\u001b[0m         pool_request\u001b[38;5;241m.\u001b[39mrequest\n\u001b[0;32m    198\u001b[0m     )\n\u001b[0;32m    199\u001b[0m \u001b[38;5;28;01mexcept\u001b[39;00m ConnectionNotAvailable:\n\u001b[0;32m    200\u001b[0m     \u001b[38;5;66;03m# In some cases a connection may initially be available to\u001b[39;00m\n\u001b[0;32m    201\u001b[0m     \u001b[38;5;66;03m# handle a request, but then become unavailable.\u001b[39;00m\n\u001b[0;32m    202\u001b[0m     \u001b[38;5;66;03m#\u001b[39;00m\n\u001b[0;32m    203\u001b[0m     \u001b[38;5;66;03m# In this case we clear the connection and try again.\u001b[39;00m\n\u001b[0;32m    204\u001b[0m     pool_request\u001b[38;5;241m.\u001b[39mclear_connection()\n",
      "File \u001b[1;32m~\\AppData\\Local\\Programs\\Python\\Python312\\Lib\\site-packages\\httpcore\\_async\\connection.py:101\u001b[0m, in \u001b[0;36mAsyncHTTPConnection.handle_async_request\u001b[1;34m(self, request)\u001b[0m\n\u001b[0;32m     98\u001b[0m     \u001b[38;5;28mself\u001b[39m\u001b[38;5;241m.\u001b[39m_connect_failed \u001b[38;5;241m=\u001b[39m \u001b[38;5;28;01mTrue\u001b[39;00m\n\u001b[0;32m     99\u001b[0m     \u001b[38;5;28;01mraise\u001b[39;00m exc\n\u001b[1;32m--> 101\u001b[0m \u001b[38;5;28;01mreturn\u001b[39;00m \u001b[38;5;28;01mawait\u001b[39;00m \u001b[38;5;28mself\u001b[39m\u001b[38;5;241m.\u001b[39m_connection\u001b[38;5;241m.\u001b[39mhandle_async_request(request)\n",
      "File \u001b[1;32m~\\AppData\\Local\\Programs\\Python\\Python312\\Lib\\site-packages\\httpcore\\_async\\http11.py:143\u001b[0m, in \u001b[0;36mAsyncHTTP11Connection.handle_async_request\u001b[1;34m(self, request)\u001b[0m\n\u001b[0;32m    141\u001b[0m     \u001b[38;5;28;01masync\u001b[39;00m \u001b[38;5;28;01mwith\u001b[39;00m Trace(\u001b[38;5;124m\"\u001b[39m\u001b[38;5;124mresponse_closed\u001b[39m\u001b[38;5;124m\"\u001b[39m, logger, request) \u001b[38;5;28;01mas\u001b[39;00m trace:\n\u001b[0;32m    142\u001b[0m         \u001b[38;5;28;01mawait\u001b[39;00m \u001b[38;5;28mself\u001b[39m\u001b[38;5;241m.\u001b[39m_response_closed()\n\u001b[1;32m--> 143\u001b[0m \u001b[38;5;28;01mraise\u001b[39;00m exc\n",
      "File \u001b[1;32m~\\AppData\\Local\\Programs\\Python\\Python312\\Lib\\site-packages\\httpcore\\_async\\http11.py:113\u001b[0m, in \u001b[0;36mAsyncHTTP11Connection.handle_async_request\u001b[1;34m(self, request)\u001b[0m\n\u001b[0;32m    102\u001b[0m     \u001b[38;5;28;01mpass\u001b[39;00m\n\u001b[0;32m    104\u001b[0m \u001b[38;5;28;01masync\u001b[39;00m \u001b[38;5;28;01mwith\u001b[39;00m Trace(\n\u001b[0;32m    105\u001b[0m     \u001b[38;5;124m\"\u001b[39m\u001b[38;5;124mreceive_response_headers\u001b[39m\u001b[38;5;124m\"\u001b[39m, logger, request, kwargs\n\u001b[0;32m    106\u001b[0m ) \u001b[38;5;28;01mas\u001b[39;00m trace:\n\u001b[0;32m    107\u001b[0m     (\n\u001b[0;32m    108\u001b[0m         http_version,\n\u001b[0;32m    109\u001b[0m         status,\n\u001b[0;32m    110\u001b[0m         reason_phrase,\n\u001b[0;32m    111\u001b[0m         headers,\n\u001b[0;32m    112\u001b[0m         trailing_data,\n\u001b[1;32m--> 113\u001b[0m     ) \u001b[38;5;241m=\u001b[39m \u001b[38;5;28;01mawait\u001b[39;00m \u001b[38;5;28mself\u001b[39m\u001b[38;5;241m.\u001b[39m_receive_response_headers(\u001b[38;5;241m*\u001b[39m\u001b[38;5;241m*\u001b[39mkwargs)\n\u001b[0;32m    114\u001b[0m     trace\u001b[38;5;241m.\u001b[39mreturn_value \u001b[38;5;241m=\u001b[39m (\n\u001b[0;32m    115\u001b[0m         http_version,\n\u001b[0;32m    116\u001b[0m         status,\n\u001b[0;32m    117\u001b[0m         reason_phrase,\n\u001b[0;32m    118\u001b[0m         headers,\n\u001b[0;32m    119\u001b[0m     )\n\u001b[0;32m    121\u001b[0m network_stream \u001b[38;5;241m=\u001b[39m \u001b[38;5;28mself\u001b[39m\u001b[38;5;241m.\u001b[39m_network_stream\n",
      "File \u001b[1;32m~\\AppData\\Local\\Programs\\Python\\Python312\\Lib\\site-packages\\httpcore\\_async\\http11.py:186\u001b[0m, in \u001b[0;36mAsyncHTTP11Connection._receive_response_headers\u001b[1;34m(self, request)\u001b[0m\n\u001b[0;32m    183\u001b[0m timeout \u001b[38;5;241m=\u001b[39m timeouts\u001b[38;5;241m.\u001b[39mget(\u001b[38;5;124m\"\u001b[39m\u001b[38;5;124mread\u001b[39m\u001b[38;5;124m\"\u001b[39m, \u001b[38;5;28;01mNone\u001b[39;00m)\n\u001b[0;32m    185\u001b[0m \u001b[38;5;28;01mwhile\u001b[39;00m \u001b[38;5;28;01mTrue\u001b[39;00m:\n\u001b[1;32m--> 186\u001b[0m     event \u001b[38;5;241m=\u001b[39m \u001b[38;5;28;01mawait\u001b[39;00m \u001b[38;5;28mself\u001b[39m\u001b[38;5;241m.\u001b[39m_receive_event(timeout\u001b[38;5;241m=\u001b[39mtimeout)\n\u001b[0;32m    187\u001b[0m     \u001b[38;5;28;01mif\u001b[39;00m \u001b[38;5;28misinstance\u001b[39m(event, h11\u001b[38;5;241m.\u001b[39mResponse):\n\u001b[0;32m    188\u001b[0m         \u001b[38;5;28;01mbreak\u001b[39;00m\n",
      "File \u001b[1;32m~\\AppData\\Local\\Programs\\Python\\Python312\\Lib\\site-packages\\httpcore\\_async\\http11.py:224\u001b[0m, in \u001b[0;36mAsyncHTTP11Connection._receive_event\u001b[1;34m(self, timeout)\u001b[0m\n\u001b[0;32m    221\u001b[0m     event \u001b[38;5;241m=\u001b[39m \u001b[38;5;28mself\u001b[39m\u001b[38;5;241m.\u001b[39m_h11_state\u001b[38;5;241m.\u001b[39mnext_event()\n\u001b[0;32m    223\u001b[0m \u001b[38;5;28;01mif\u001b[39;00m event \u001b[38;5;129;01mis\u001b[39;00m h11\u001b[38;5;241m.\u001b[39mNEED_DATA:\n\u001b[1;32m--> 224\u001b[0m     data \u001b[38;5;241m=\u001b[39m \u001b[38;5;28;01mawait\u001b[39;00m \u001b[38;5;28mself\u001b[39m\u001b[38;5;241m.\u001b[39m_network_stream\u001b[38;5;241m.\u001b[39mread(\n\u001b[0;32m    225\u001b[0m         \u001b[38;5;28mself\u001b[39m\u001b[38;5;241m.\u001b[39mREAD_NUM_BYTES, timeout\u001b[38;5;241m=\u001b[39mtimeout\n\u001b[0;32m    226\u001b[0m     )\n\u001b[0;32m    228\u001b[0m     \u001b[38;5;66;03m# If we feed this case through h11 we'll raise an exception like:\u001b[39;00m\n\u001b[0;32m    229\u001b[0m     \u001b[38;5;66;03m#\u001b[39;00m\n\u001b[0;32m    230\u001b[0m     \u001b[38;5;66;03m#     httpcore.RemoteProtocolError: can't handle event type\u001b[39;00m\n\u001b[1;32m   (...)\u001b[0m\n\u001b[0;32m    234\u001b[0m     \u001b[38;5;66;03m# perspective. Instead we handle this case distinctly and treat\u001b[39;00m\n\u001b[0;32m    235\u001b[0m     \u001b[38;5;66;03m# it as a ConnectError.\u001b[39;00m\n\u001b[0;32m    236\u001b[0m     \u001b[38;5;28;01mif\u001b[39;00m data \u001b[38;5;241m==\u001b[39m \u001b[38;5;124mb\u001b[39m\u001b[38;5;124m\"\u001b[39m\u001b[38;5;124m\"\u001b[39m \u001b[38;5;129;01mand\u001b[39;00m \u001b[38;5;28mself\u001b[39m\u001b[38;5;241m.\u001b[39m_h11_state\u001b[38;5;241m.\u001b[39mtheir_state \u001b[38;5;241m==\u001b[39m h11\u001b[38;5;241m.\u001b[39mSEND_RESPONSE:\n",
      "File \u001b[1;32m~\\AppData\\Local\\Programs\\Python\\Python312\\Lib\\site-packages\\httpcore\\_backends\\anyio.py:34\u001b[0m, in \u001b[0;36mAnyIOStream.read\u001b[1;34m(self, max_bytes, timeout)\u001b[0m\n\u001b[0;32m     32\u001b[0m \u001b[38;5;28;01mwith\u001b[39;00m anyio\u001b[38;5;241m.\u001b[39mfail_after(timeout):\n\u001b[0;32m     33\u001b[0m     \u001b[38;5;28;01mtry\u001b[39;00m:\n\u001b[1;32m---> 34\u001b[0m         \u001b[38;5;28;01mreturn\u001b[39;00m \u001b[38;5;28;01mawait\u001b[39;00m \u001b[38;5;28mself\u001b[39m\u001b[38;5;241m.\u001b[39m_stream\u001b[38;5;241m.\u001b[39mreceive(max_bytes\u001b[38;5;241m=\u001b[39mmax_bytes)\n\u001b[0;32m     35\u001b[0m     \u001b[38;5;28;01mexcept\u001b[39;00m anyio\u001b[38;5;241m.\u001b[39mEndOfStream:  \u001b[38;5;66;03m# pragma: nocover\u001b[39;00m\n\u001b[0;32m     36\u001b[0m         \u001b[38;5;28;01mreturn\u001b[39;00m \u001b[38;5;124mb\u001b[39m\u001b[38;5;124m\"\u001b[39m\u001b[38;5;124m\"\u001b[39m\n",
      "File \u001b[1;32m~\\AppData\\Local\\Programs\\Python\\Python312\\Lib\\site-packages\\anyio\\streams\\tls.py:205\u001b[0m, in \u001b[0;36mTLSStream.receive\u001b[1;34m(self, max_bytes)\u001b[0m\n\u001b[0;32m    204\u001b[0m \u001b[38;5;28;01masync\u001b[39;00m \u001b[38;5;28;01mdef\u001b[39;00m \u001b[38;5;21mreceive\u001b[39m(\u001b[38;5;28mself\u001b[39m, max_bytes: \u001b[38;5;28mint\u001b[39m \u001b[38;5;241m=\u001b[39m \u001b[38;5;241m65536\u001b[39m) \u001b[38;5;241m-\u001b[39m\u001b[38;5;241m>\u001b[39m \u001b[38;5;28mbytes\u001b[39m:\n\u001b[1;32m--> 205\u001b[0m     data \u001b[38;5;241m=\u001b[39m \u001b[38;5;28;01mawait\u001b[39;00m \u001b[38;5;28mself\u001b[39m\u001b[38;5;241m.\u001b[39m_call_sslobject_method(\u001b[38;5;28mself\u001b[39m\u001b[38;5;241m.\u001b[39m_ssl_object\u001b[38;5;241m.\u001b[39mread, max_bytes)\n\u001b[0;32m    206\u001b[0m     \u001b[38;5;28;01mif\u001b[39;00m \u001b[38;5;129;01mnot\u001b[39;00m data:\n\u001b[0;32m    207\u001b[0m         \u001b[38;5;28;01mraise\u001b[39;00m EndOfStream\n",
      "File \u001b[1;32m~\\AppData\\Local\\Programs\\Python\\Python312\\Lib\\site-packages\\anyio\\streams\\tls.py:147\u001b[0m, in \u001b[0;36mTLSStream._call_sslobject_method\u001b[1;34m(self, func, *args)\u001b[0m\n\u001b[0;32m    144\u001b[0m     \u001b[38;5;28;01mif\u001b[39;00m \u001b[38;5;28mself\u001b[39m\u001b[38;5;241m.\u001b[39m_write_bio\u001b[38;5;241m.\u001b[39mpending:\n\u001b[0;32m    145\u001b[0m         \u001b[38;5;28;01mawait\u001b[39;00m \u001b[38;5;28mself\u001b[39m\u001b[38;5;241m.\u001b[39mtransport_stream\u001b[38;5;241m.\u001b[39msend(\u001b[38;5;28mself\u001b[39m\u001b[38;5;241m.\u001b[39m_write_bio\u001b[38;5;241m.\u001b[39mread())\n\u001b[1;32m--> 147\u001b[0m     data \u001b[38;5;241m=\u001b[39m \u001b[38;5;28;01mawait\u001b[39;00m \u001b[38;5;28mself\u001b[39m\u001b[38;5;241m.\u001b[39mtransport_stream\u001b[38;5;241m.\u001b[39mreceive()\n\u001b[0;32m    148\u001b[0m \u001b[38;5;28;01mexcept\u001b[39;00m EndOfStream:\n\u001b[0;32m    149\u001b[0m     \u001b[38;5;28mself\u001b[39m\u001b[38;5;241m.\u001b[39m_read_bio\u001b[38;5;241m.\u001b[39mwrite_eof()\n",
      "File \u001b[1;32m~\\AppData\\Local\\Programs\\Python\\Python312\\Lib\\site-packages\\anyio\\_backends\\_asyncio.py:1133\u001b[0m, in \u001b[0;36mSocketStream.receive\u001b[1;34m(self, max_bytes)\u001b[0m\n\u001b[0;32m   1128\u001b[0m \u001b[38;5;28;01mif\u001b[39;00m (\n\u001b[0;32m   1129\u001b[0m     \u001b[38;5;129;01mnot\u001b[39;00m \u001b[38;5;28mself\u001b[39m\u001b[38;5;241m.\u001b[39m_protocol\u001b[38;5;241m.\u001b[39mread_event\u001b[38;5;241m.\u001b[39mis_set()\n\u001b[0;32m   1130\u001b[0m     \u001b[38;5;129;01mand\u001b[39;00m \u001b[38;5;129;01mnot\u001b[39;00m \u001b[38;5;28mself\u001b[39m\u001b[38;5;241m.\u001b[39m_transport\u001b[38;5;241m.\u001b[39mis_closing()\n\u001b[0;32m   1131\u001b[0m ):\n\u001b[0;32m   1132\u001b[0m     \u001b[38;5;28mself\u001b[39m\u001b[38;5;241m.\u001b[39m_transport\u001b[38;5;241m.\u001b[39mresume_reading()\n\u001b[1;32m-> 1133\u001b[0m     \u001b[38;5;28;01mawait\u001b[39;00m \u001b[38;5;28mself\u001b[39m\u001b[38;5;241m.\u001b[39m_protocol\u001b[38;5;241m.\u001b[39mread_event\u001b[38;5;241m.\u001b[39mwait()\n\u001b[0;32m   1134\u001b[0m     \u001b[38;5;28mself\u001b[39m\u001b[38;5;241m.\u001b[39m_transport\u001b[38;5;241m.\u001b[39mpause_reading()\n\u001b[0;32m   1136\u001b[0m \u001b[38;5;28;01mtry\u001b[39;00m:\n",
      "File \u001b[1;32m~\\AppData\\Local\\Programs\\Python\\Python312\\Lib\\asyncio\\locks.py:212\u001b[0m, in \u001b[0;36mEvent.wait\u001b[1;34m(self)\u001b[0m\n\u001b[0;32m    210\u001b[0m \u001b[38;5;28mself\u001b[39m\u001b[38;5;241m.\u001b[39m_waiters\u001b[38;5;241m.\u001b[39mappend(fut)\n\u001b[0;32m    211\u001b[0m \u001b[38;5;28;01mtry\u001b[39;00m:\n\u001b[1;32m--> 212\u001b[0m     \u001b[38;5;28;01mawait\u001b[39;00m fut\n\u001b[0;32m    213\u001b[0m     \u001b[38;5;28;01mreturn\u001b[39;00m \u001b[38;5;28;01mTrue\u001b[39;00m\n\u001b[0;32m    214\u001b[0m \u001b[38;5;28;01mfinally\u001b[39;00m:\n",
      "\u001b[1;31mCancelledError\u001b[0m: "
     ]
    }
   ],
   "source": [
    "result = await _load(transformed)"
   ]
  },
  {
   "cell_type": "code",
   "execution_count": null,
   "id": "57e2b382-1187-44dc-a8f6-e73203d973eb",
   "metadata": {},
   "outputs": [],
   "source": []
  }
 ],
 "metadata": {
  "kernelspec": {
   "display_name": "Python 3 (ipykernel)",
   "language": "python",
   "name": "python3"
  },
  "language_info": {
   "codemirror_mode": {
    "name": "ipython",
    "version": 3
   },
   "file_extension": ".py",
   "mimetype": "text/x-python",
   "name": "python",
   "nbconvert_exporter": "python",
   "pygments_lexer": "ipython3",
   "version": "3.12.2"
  }
 },
 "nbformat": 4,
 "nbformat_minor": 5
}
